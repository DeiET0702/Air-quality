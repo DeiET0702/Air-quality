{
 "cells": [
  {
   "cell_type": "code",
   "execution_count": 1,
   "id": "5c7d9895",
   "metadata": {},
   "outputs": [
    {
     "name": "stdout",
     "output_type": "stream",
     "text": [
      "✅ Đã lọc và lưu lại file air_quality_weather_data_filtered.csv với định dạng thời gian chuẩn.\n"
     ]
    }
   ],
   "source": [
    "import pandas as pd\n",
    "\n",
    "# Đọc dữ liệu gốc và chuyển Timestamp thành datetime\n",
    "df = pd.read_csv('./air_quality_weather_data.csv', parse_dates=['Timestamp'], dayfirst=True)\n",
    "\n",
    "# Điều kiện lọc riêng cho từng trạm\n",
    "condition_hcm = (\n",
    "    (df['Name'] == 'HCM: Khu Liên cơ quan Bộ Tài Nguyên và Môi Trường - số 20 Đ. Lý Chính Thắng (KK)') &\n",
    "    (df['Timestamp'] >= pd.Timestamp('2025-04-25'))\n",
    ")\n",
    "\n",
    "condition_quangbinh = (\n",
    "    (df['Name'] == 'Quảng Bình: Khu kinh tế Hòn La (KK)') &\n",
    "    (df['Timestamp'] >= pd.Timestamp('2025-04-22'))\n",
    ")\n",
    "\n",
    "# Các trạm còn lại giữ nguyên\n",
    "condition_others = ~df['Name'].isin([\n",
    "    'HCM: Khu Liên cơ quan Bộ Tài Nguyên và Môi Trường - số 20 Đ. Lý Chính Thắng (KK)',\n",
    "    'Quảng Bình: Khu kinh tế Hòn La (KK)'\n",
    "])\n",
    "\n",
    "# Gộp điều kiện lọc và lọc dữ liệu\n",
    "filtered_df = df[condition_hcm | condition_quangbinh | condition_others].copy()\n",
    "\n",
    "# Định dạng lại cột Timestamp theo dạng dd/mm/yyyy HH:MM\n",
    "filtered_df['Timestamp'] = filtered_df['Timestamp'].dt.strftime('%d/%m/%Y %H:%M')\n",
    "\n",
    "# Ghi đè lại vào file\n",
    "filtered_df.to_csv('./air_quality_weather_data_filtered.csv', index=False)\n",
    "\n",
    "print(\"✅ Đã lọc và lưu lại file air_quality_weather_data_filtered.csv với định dạng thời gian chuẩn.\")\n"
   ]
  },
  {
   "cell_type": "code",
   "execution_count": null,
   "id": "bca4fb74",
   "metadata": {},
   "outputs": [],
   "source": []
  },
  {
   "cell_type": "code",
   "execution_count": 2,
   "id": "ab136bc4",
   "metadata": {},
   "outputs": [
    {
     "name": "stdout",
     "output_type": "stream",
     "text": [
      "📌 Các giá trị vượt ngưỡng bất thường:\n",
      "\n",
      "✅ PM2.5: Không có giá trị bất thường\n",
      "✅ PM10: Không có giá trị bất thường\n",
      "✅ CO: Không có giá trị bất thường\n",
      "✅ NO2: Không có giá trị bất thường\n",
      "✅ O3: Không có giá trị bất thường\n",
      "✅ SO2: Không có giá trị bất thường\n",
      "✅ Temperature: Không có giá trị bất thường\n",
      "✅ Humidity: Không có giá trị bất thường\n",
      "✅ Pressure: Không có giá trị bất thường\n",
      "✅ Wind Speed: Không có giá trị bất thường\n"
     ]
    }
   ],
   "source": [
    "import pandas as pd\n",
    "\n",
    "# Đọc dữ liệu\n",
    "df = pd.read_csv('./air_quality_weather_data_filtered.csv', dayfirst=True)\n",
    "\n",
    "# Chuyển Timestamp về đúng định dạng\n",
    "df['Timestamp'] = pd.to_datetime(df['Timestamp'], errors='coerce')\n",
    "\n",
    "# Các thông số cần kiểm tra\n",
    "columns_to_check = ['PM2.5', 'PM10', 'CO', 'NO2', 'O3', 'SO2',\n",
    "                    'Temperature', 'Humidity', 'Pressure', 'Wind Speed']\n",
    "\n",
    "# Chuyển các cột về số\n",
    "for col in columns_to_check:\n",
    "    df[col] = pd.to_numeric(df[col], errors='coerce')\n",
    "\n",
    "# Ngưỡng kiểm tra bất thường (vượt quá là vô lý)\n",
    "thresholds = {\n",
    "    'PM2.5': (0, 1000),        # µg/m³\n",
    "    'PM10': (0, 1500),\n",
    "    'CO': (0, 100),            # mg/m³\n",
    "    'NO2': (0, 1000),\n",
    "    'O3': (0, 1000),\n",
    "    'SO2': (0, 1000),\n",
    "    'Temperature': (-50, 60),  # độ C\n",
    "    'Humidity': (0, 100),      # %\n",
    "    'Pressure': (850, 1100),   # hPa\n",
    "    'Wind Speed': (0, 60)      # m/s\n",
    "}\n",
    "\n",
    "# Lọc và in ra các giá trị bất thường\n",
    "print(\"📌 Các giá trị vượt ngưỡng bất thường:\\n\")\n",
    "\n",
    "for col, (min_val, max_val) in thresholds.items():\n",
    "    outliers = df[(df[col] < min_val) | (df[col] > max_val)]\n",
    "    if not outliers.empty:\n",
    "        print(f\"🔴 {col}: {len(outliers)} giá trị bất thường\")\n",
    "        print(outliers[['Timestamp', 'Name', col]].head(5), \"\\n\")  # In ra 5 dòng đầu tiên\n",
    "    else:\n",
    "        print(f\"✅ {col}: Không có giá trị bất thường\")\n"
   ]
  },
  {
   "cell_type": "code",
   "execution_count": 3,
   "id": "20069ef8",
   "metadata": {},
   "outputs": [],
   "source": [
    "import pandas as pd\n",
    "\n",
    "df = pd.read_csv('./air_quality_weather_data_filtered.csv', dayfirst=True)\n",
    "\n",
    "new_locations = [\n",
    "    (\"Hà Nội: ĐHBK cổng Parabol đường Giải Phóng (KK)\", 21.0052, 105.8418),\n",
    "    (\"Hà Nội: 556 Nguyễn Văn Cừ (KK)\", 21.0491, 105.8831),\n",
    "    (\"Hà Nội: Công viên Nhân Chính - Khuất Duy Tiến (KK)\", 21.0031, 105.7947),\n",
    "    (\"HCM: Khu Liên cơ quan Bộ Tài Nguyên và Môi Trường - số 20 Đ. Lý Chính Thắng (KK)\", 10.7823, 106.6834),\n",
    "    (\"HCM: Đ. Lê Hữu Kiều - P. Bình Trưng Tây - Quận 2 (Ngã ba Lê Hữu Kiểu và Trương Văn Bang) (KK)\", 10.7823, 106.7528),\n",
    "    (\"Đà Nẵng: Khuôn viên trường ĐH sư phạm Đà Nẵng (KK)\", 16.0622, 108.1594),\n",
    "    (\"Thái nguyên: Đường Hùng Vương - Tp Thái Nguyên (KK)\", 21.59315, 105.8431),\n",
    "    (\"Phú Thọ: đường Hùng Vương - Tp Việt Trì (KK)\", 21.33847, 105.3633),\n",
    "    (\"Bắc Giang: Khu liên cơ quan tỉnh Bắc Giang - P. Ngô Quyền - TP. Bắc Giang (KK)\", 21.3015, 106.22603),\n",
    "    (\"Hà Nam: Công Viên Nam Cao - P.Quang Trung - TP. Phủ Lý (KK)\", 20.536, 105.9165),\n",
    "    (\"Long An: UBND Tp Tân An - 76 Hùng Vương - P.2 (KK)\", 10.5391, 106.4045),\n",
    "    (\"Bình Dương: số 593 Đại lộ Bình Dương, P. Hiệp Thành (KK)\", 10.9923, 106.6577),\n",
    "    (\"Quảng Bình: Khu kinh tế Hòn La (KK)\", 17.9329, 106.4966)\n",
    "]\n",
    "\n",
    "# Tạo dict để tìm nhanh\n",
    "location_dict = {name: (lat, lon) for name, lat, lon in new_locations}\n",
    "\n",
    "# Hàm tìm và cập nhật toạ độ\n",
    "def update_coordinates(row):\n",
    "    for loc_name in location_dict:\n",
    "        if loc_name in row[\"Name\"]:\n",
    "            lat, lon = location_dict[loc_name]\n",
    "            row[\"Latitude\"] = lat\n",
    "            row[\"Longitude\"] = lon\n",
    "            break\n",
    "    return row\n",
    "\n",
    "# Áp dụng cập nhật cho từng dòng\n",
    "df = df.apply(update_coordinates, axis=1)\n",
    "\n",
    "df.to_csv(\"air_quality_weather_data_filtered.csv\", index=False)"
   ]
  },
  {
   "cell_type": "code",
   "execution_count": 4,
   "id": "3f98cfbb",
   "metadata": {},
   "outputs": [],
   "source": [
    "import pandas as pd\n",
    "\n",
    "# Đọc file CSV gốc\n",
    "df = pd.read_csv('./air_quality_weather_data_filtered.csv', dayfirst=True)\n",
    "\n",
    "\n",
    "# Thêm cột 'Source' vào đầu tiên với giá trị 'gov'\n",
    "df.insert(0, 'Source', 'gov')\n",
    "\n",
    "# Lưu lại file mới (hoặc ghi đè nếu muốn)\n",
    "df.to_csv(\"air_quality_weather_data_filtered.csv\", index=False)"
   ]
  },
  {
   "cell_type": "code",
   "execution_count": 5,
   "id": "020b258c",
   "metadata": {},
   "outputs": [],
   "source": [
    "import pandas as pd\n",
    "\n",
    "# Đọc file CSV gốc\n",
    "df = pd.read_csv('./air_quality_weather_data_filtered.csv', dayfirst=True)\n",
    "\n",
    "# Tạo từ điển ánh xạ Name -> ID\n",
    "name_to_id = {\n",
    "    \"Hà Nội: ĐHBK cổng Parabol đường Giải Phóng (KK)\" :  31390903576425084107499649578,\n",
    "    \"Hà Nội: 556 Nguyễn Văn Cừ (KK)\" : 28560877461938780203765592307,\n",
    "    \"Hà Nội: Công viên Nhân Chính - Khuất Duy Tiến (KK)\" : 31390908889087377344742439468,\n",
    "    \"HCM: Khu Liên cơ quan Bộ Tài Nguyên và Môi Trường - số 20 Đ. Lý Chính Thắng (KK)\" : 31390916083317566102523755051,\n",
    "    \"HCM: Đ. Lê Hữu Kiều - P. Bình Trưng Tây - Quận 2 (Ngã ba Lê Hữu Kiểu và Trương Văn Bang) (KK)\" : 31390912357075263208060500522,\n",
    "    \"Đà Nẵng: Khuôn viên trường ĐH sư phạm Đà Nẵng (KK)\" : 31388851800421997746903202346,\n",
    "    \"Thái nguyên: Đường Hùng Vương - Tp Thái Nguyên (KK)\" : 29195707587706641566224751462,\n",
    "    \"Phú Thọ: đường Hùng Vương - Tp Việt Trì (KK)\" : 28505268571336961948594948504,\n",
    "    \"Bắc Giang: Khu liên cơ quan tỉnh Bắc Giang - P. Ngô Quyền - TP. Bắc Giang (KK)\" : 31387251434693138681789561386,\n",
    "    \"Hà Nam: Công Viên Nam Cao - P.Quang Trung - TP. Phủ Lý (KK)\" : 31388883344354363840031242796,\n",
    "    \"Long An: UBND Tp Tân An - 76 Hùng Vương - P.2 (KK)\" : 31390932574706768021562473002,\n",
    "    \"Bình Dương: số 593 Đại lộ Bình Dương, P. Hiệp Thành (KK)\" : 31388839920718814259329251882,\n",
    "    \"Quảng Bình: Khu kinh tế Hòn La (KK)\" : 29213751141295132066317063859,\n",
    "}\n",
    "\n",
    "\n",
    "# Tạo cột 'ID' từ Name\n",
    "df.insert(1, 'ID', df['Name'].map(name_to_id))\n",
    "\n",
    "# Lưu file kết quả\n",
    "df.to_csv(\"air_quality_weather_data_filtered.csv\", index=False)"
   ]
  },
  {
   "cell_type": "code",
   "execution_count": 8,
   "id": "691d6b80",
   "metadata": {},
   "outputs": [],
   "source": [
    "import pandas as pd\n",
    "\n",
    "# Đọc dữ liệu từ file gốc\n",
    "df = pd.read_csv('air_quality_weather_data_filtered.csv')\n",
    "\n",
    "# Loại bỏ dữ liệu của trạm Quảng Bình: KKT Hòn La (KK)\n",
    "df_filtered = df[df['Name'] != 'Quảng Bình: KKT Hòn La (KK)']\n",
    "\n",
    "# Ghi ra file mới (hoặc ghi đè lên file cũ nếu muốn)\n",
    "df_filtered.to_csv('air_quality_weather_data_filtered.csv', index=False)\n",
    "\n"
   ]
  },
  {
   "cell_type": "code",
   "execution_count": 9,
   "id": "e591c758",
   "metadata": {},
   "outputs": [
    {
     "name": "stdout",
     "output_type": "stream",
     "text": [
      "['Hà Nội: 556 Nguyễn Văn Cừ (KK)'\n",
      " 'HCM: Đ. Lê Hữu Kiều - P. Bình Trưng Tây - Quận 2 (Ngã ba Lê Hữu Kiểu và Trương Văn Bang) (KK)'\n",
      " 'Long An: UBND Tp Tân An - 76 Hùng Vương - P.2 (KK)'\n",
      " 'Hà Nội: ĐHBK cổng Parabol đường Giải Phóng (KK)'\n",
      " 'Hà Nội: Công viên Nhân Chính - Khuất Duy Tiến (KK)'\n",
      " 'Đà Nẵng: Khuôn viên trường ĐH sư phạm Đà Nẵng (KK)'\n",
      " 'Thái nguyên: Đường Hùng Vương - Tp Thái Nguyên (KK)'\n",
      " 'Phú Thọ: đường Hùng Vương - Tp Việt Trì (KK)'\n",
      " 'Bắc Giang: Khu liên cơ quan tỉnh Bắc Giang - P. Ngô Quyền - TP. Bắc Giang (KK)'\n",
      " 'Hà Nam: Công Viên Nam Cao - P.Quang Trung - TP. Phủ Lý (KK)'\n",
      " 'Bình Dương: số 593 Đại lộ Bình Dương, P. Hiệp Thành (KK)'\n",
      " 'HCM: Khu Liên cơ quan Bộ Tài Nguyên và Môi Trường - số 20 Đ. Lý Chính Thắng (KK)']\n"
     ]
    }
   ],
   "source": [
    "print(df_filtered['Name'].unique())\n"
   ]
  }
 ],
 "metadata": {
  "kernelspec": {
   "display_name": "base",
   "language": "python",
   "name": "python3"
  },
  "language_info": {
   "codemirror_mode": {
    "name": "ipython",
    "version": 3
   },
   "file_extension": ".py",
   "mimetype": "text/x-python",
   "name": "python",
   "nbconvert_exporter": "python",
   "pygments_lexer": "ipython3",
   "version": "3.11.8"
  }
 },
 "nbformat": 4,
 "nbformat_minor": 5
}
